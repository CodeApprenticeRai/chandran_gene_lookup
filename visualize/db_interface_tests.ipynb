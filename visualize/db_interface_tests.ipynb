{
 "cells": [
  {
   "cell_type": "code",
   "execution_count": 17,
   "metadata": {
    "collapsed": true
   },
   "outputs": [],
   "source": [
    "import MySQLdb\n",
    "\n",
    "def get_row(gene_symbol):\n",
    "\tconn = MySQLdb.connect(host=\"uf-gene-comp.cfkwbxqw8ftv.us-east-2.rds.amazonaws.com\", user=\"TareG\", password=\"iloveyou\", db=\"uf_gene_comp\")\n",
    "\n",
    "\tcursor = conn.cursor()\n",
    "\t\n",
    "\t#these can be made dynamic (as in fed from a web form)\n",
    "\ttable = \"`barreslab_rnaseq_raw_data`\"\n",
    "\tgen_sym = \"'{}'\".format(gene_symbol)\n",
    "\n",
    "\trequest_row = \"SELECT * FROM {0} WHERE `gene_symbol` = {1} LIMIT 10\".format(table, gen_sym)\n",
    "\n",
    "\trequest_row_range = \"SELECT * FROM `barreslab_rnaseq_raw_data` LIMIT 10\"\n",
    "\n",
    "\tcursor.execute(request_row)\n",
    "\n",
    "\treturn cursor.fetchall()\n"
   ]
  },
  {
   "cell_type": "code",
   "execution_count": 10,
   "metadata": {},
   "outputs": [
    {
     "data": {
      "text/plain": [
       "(('0610005C13Rik', '', '0.2', '0.1', '0.1', '0.1', '0.1', '0.1', '0.1\\r'),\n",
       " ('0610005C13Rik', '', '0.2', '0.1', '0.1', '0.1', '0.1', '0.1', '0.1\\r'))"
      ]
     },
     "execution_count": 10,
     "metadata": {},
     "output_type": "execute_result"
    }
   ],
   "source": [
    "\tconn = MySQLdb.connect(host=\"uf-gene-comp.cfkwbxqw8ftv.us-east-2.rds.amazonaws.com\", user=\"TareG\", password=\"iloveyou\", db=\"uf_gene_comp\")\n",
    "\n",
    "\tcursor = conn.cursor()\n",
    "\t\n",
    "\t#these can be made dynamic (as in fed from a web form)\n",
    "\ttable = \"`barreslab_rnaseq_raw_data`\"\n",
    "\tgen_sym = \"'0610005C13Rik'\"\n",
    "\n",
    "\trequest_row = \"SELECT * FROM {0} WHERE `gene_symbol` = {1} LIMIT 10\".format(table, gen_sym)\n",
    "\n",
    "\trequest_row_range = \"SELECT * FROM `barreslab_rnaseq_raw_data` WHERE `gene_symbol` = '0610005C13Rik' LIMIT 10\"\n",
    "\n",
    "\tcursor.execute(request_row)\n",
    "    \n",
    "cursor.fetchall()"
   ]
  },
  {
   "cell_type": "code",
   "execution_count": 18,
   "metadata": {},
   "outputs": [
    {
     "data": {
      "text/plain": [
       "(('0610005C13Rik', '', '0.2', '0.1', '0.1', '0.1', '0.1', '0.1', '0.1\\r'),\n",
       " ('0610005C13Rik', '', '0.2', '0.1', '0.1', '0.1', '0.1', '0.1', '0.1\\r'))"
      ]
     },
     "execution_count": 18,
     "metadata": {},
     "output_type": "execute_result"
    }
   ],
   "source": [
    "get_row(\"0610005C13Rik\")"
   ]
  },
  {
   "cell_type": "code",
   "execution_count": 62,
   "metadata": {
    "collapsed": true
   },
   "outputs": [],
   "source": [
    "def get_col_names():\n",
    "    request_column_names = \"SHOW columns FROM {}\".format(table)\n",
    "    cursor.execute(request_column_names)\n",
    "    return [desc[0] for desc in cursor.fetchall()]\n",
    "\n",
    "def get_plot(x,y):\n",
    "\tdata = [go.Bar(x=x,y=y)]\n",
    "\treturn ply.iplot(data, filename=\"gene_graph\")"
   ]
  },
  {
   "cell_type": "code",
   "execution_count": 71,
   "metadata": {},
   "outputs": [
    {
     "data": {
      "text/plain": [
       "[{'freq': 0.2, 'name': 'astrocytes'},\n",
       " {'freq': 0.1, 'name': 'neuron'},\n",
       " {'freq': 0.1, 'name': 'oligodendrocyte_precursor_cell'},\n",
       " {'freq': 0.1, 'name': 'newly_formed_oligodendrocyte'},\n",
       " {'freq': 0.1, 'name': 'myelinating_oligodendrocytes'},\n",
       " {'freq': 0.1, 'name': 'microglia'},\n",
       " {'freq': 0.1, 'name': 'endothelial_cells'}]"
      ]
     },
     "execution_count": 71,
     "metadata": {},
     "output_type": "execute_result"
    }
   ],
   "source": [
    "import plotly.plotly as ply\n",
    "import plotly.graph_objs as go\n",
    "import json\n",
    "\n",
    "raw_y = get_row(\"0610005C13Rik\")[0]\n",
    "raw_x = get_col_names()\n",
    "\n",
    "x = raw_x[2:]\n",
    "\n",
    "y = raw_y[2:]\n",
    "y = [float(f) for f in y ]\n",
    "\n",
    "data_json = []\n",
    "\n",
    "for i in range(len(x)):\n",
    "    data = {}\n",
    "    data[\"name\"] = x[i]\n",
    "    data[\"freq\"] = y[i]\n",
    "    data_json.append(data)\n",
    "    \n",
    "data_json"
   ]
  },
  {
   "cell_type": "code",
   "execution_count": 72,
   "metadata": {},
   "outputs": [],
   "source": [
    "with open('gdata.json', 'w') as outfile:  \n",
    "    json.dump(data_json, outfile)"
   ]
  },
  {
   "cell_type": "code",
   "execution_count": null,
   "metadata": {
    "collapsed": true
   },
   "outputs": [],
   "source": []
  },
  {
   "cell_type": "code",
   "execution_count": null,
   "metadata": {
    "collapsed": true
   },
   "outputs": [],
   "source": []
  }
 ],
 "metadata": {
  "kernelspec": {
   "display_name": "Python 3",
   "language": "python",
   "name": "python3"
  },
  "language_info": {
   "codemirror_mode": {
    "name": "ipython",
    "version": 3
   },
   "file_extension": ".py",
   "mimetype": "text/x-python",
   "name": "python",
   "nbconvert_exporter": "python",
   "pygments_lexer": "ipython3",
   "version": "3.6.1"
  }
 },
 "nbformat": 4,
 "nbformat_minor": 2
}
