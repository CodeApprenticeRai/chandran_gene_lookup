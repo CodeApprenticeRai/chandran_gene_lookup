{
 "cells": [
  {
   "cell_type": "code",
   "execution_count": 2,
   "metadata": {},
   "outputs": [],
   "source": [
    "import MySQLdb\n",
    "\n",
    "def get_row(gene_symbol):\n",
    "\tconn = MySQLdb.connect(host=\"uf-gene-comp.cfkwbxqw8ftv.us-east-2.rds.amazonaws.com\", user=\"TareG\", password=\"iloveyou\", db=\"uf_gene_comp\")\n",
    "\n",
    "\tcursor = conn.cursor()\n",
    "\t\n",
    "\t#these can be made dynamic (as in fed from a web form)\n",
    "\ttable = \"`barreslab_rnaseq_raw_data`\"\n",
    "\tgen_sym = \"`0610005C13Rik`\"\n",
    "\n",
    "\trequest_row = \"SELECT * FROM {0} WHERE `gene_symbol` = {1} LIMIT 10\".format(table, gen_sym)\n",
    "\n",
    "\trequest_row_range = \"SELECT * FROM `barreslab_rnaseq_raw_data` LIMIT 10\"\n",
    "\n",
    "\tcursor.execute(request_row)\n",
    "\n",
    "\treturn cursor.fetchall()\n"
   ]
  },
  {
   "cell_type": "code",
   "execution_count": 10,
   "metadata": {},
   "outputs": [
    {
     "data": {
      "text/plain": [
       "(('0610005C13Rik', '', '0.2', '0.1', '0.1', '0.1', '0.1', '0.1', '0.1\\r'),\n",
       " ('0610005C13Rik', '', '0.2', '0.1', '0.1', '0.1', '0.1', '0.1', '0.1\\r'))"
      ]
     },
     "execution_count": 10,
     "metadata": {},
     "output_type": "execute_result"
    }
   ],
   "source": [
    "\tconn = MySQLdb.connect(host=\"uf-gene-comp.cfkwbxqw8ftv.us-east-2.rds.amazonaws.com\", user=\"TareG\", password=\"iloveyou\", db=\"uf_gene_comp\")\n",
    "\n",
    "\tcursor = conn.cursor()\n",
    "\t\n",
    "\t#these can be made dynamic (as in fed from a web form)\n",
    "\ttable = \"`barreslab_rnaseq_raw_data`\"\n",
    "\tgen_sym = \"'0610005C13Rik'\"\n",
    "\n",
    "\trequest_row = \"SELECT * FROM {0} WHERE `gene_symbol` = {1} LIMIT 10\".format(table, gen_sym)\n",
    "\n",
    "\trequest_row_range = \"SELECT * FROM `barreslab_rnaseq_raw_data` WHERE `gene_symbol` = '0610005C13Rik' LIMIT 10\"\n",
    "\n",
    "\tcursor.execute(request_row)\n",
    "    \n",
    "cursor.fetchall()"
   ]
  },
  {
   "cell_type": "code",
   "execution_count": null,
   "metadata": {
    "collapsed": true
   },
   "outputs": [],
   "source": [
    "def add_quotations(string):\n",
    "    if string[0] != \"'\":\n",
    "        string = \"'\" + string\n",
    "    \n",
    "    if string[-1] != \"'\":\n",
    "        string[-1] = string + \"'\"\n",
    "    \n",
    "    return string"
   ]
  }
 ],
 "metadata": {
  "kernelspec": {
   "display_name": "Python 3",
   "language": "python",
   "name": "python3"
  },
  "language_info": {
   "codemirror_mode": {
    "name": "ipython",
    "version": 3
   },
   "file_extension": ".py",
   "mimetype": "text/x-python",
   "name": "python",
   "nbconvert_exporter": "python",
   "pygments_lexer": "ipython3",
   "version": "3.6.1"
  }
 },
 "nbformat": 4,
 "nbformat_minor": 2
}
